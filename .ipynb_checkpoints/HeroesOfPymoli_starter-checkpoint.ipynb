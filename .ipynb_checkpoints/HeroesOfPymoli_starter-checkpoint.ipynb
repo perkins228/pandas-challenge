{
 "cells": [
  {
   "cell_type": "markdown",
   "metadata": {},
   "source": [
    "### Note\n",
    "* Instructions have been included for each segment. You do not have to follow them exactly, but they are included to help you think through the steps."
   ]
  },
  {
   "cell_type": "code",
   "execution_count": 190,
   "metadata": {},
   "outputs": [],
   "source": [
    "# Dependencies and Setup\n",
    "import pandas as pd\n",
    "\n",
    "# File to Load (Remember to Change These)\n",
    "file_to_load = \"Resources/purchase_data.csv\"\n",
    "\n",
    "# Read Purchasing File and store into Pandas data frame\n",
    "purchase_data = pd.read_csv(file_to_load)"
   ]
  },
  {
   "cell_type": "markdown",
   "metadata": {},
   "source": [
    "## Player Count"
   ]
  },
  {
   "cell_type": "markdown",
   "metadata": {},
   "source": [
    "* Display the total number of players\n"
   ]
  },
  {
   "cell_type": "code",
   "execution_count": 191,
   "metadata": {},
   "outputs": [
    {
     "data": {
      "text/plain": [
       "576"
      ]
     },
     "execution_count": 191,
     "metadata": {},
     "output_type": "execute_result"
    }
   ],
   "source": [
    "#Find unique player count\n",
    "total_players = purchase_data[\"SN\"].nunique()\n",
    "total_players"
   ]
  },
  {
   "cell_type": "markdown",
   "metadata": {},
   "source": [
    "## Purchasing Analysis (Total)"
   ]
  },
  {
   "cell_type": "markdown",
   "metadata": {},
   "source": [
    "* Run basic calculations to obtain number of unique items, average price, etc.\n",
    "\n",
    "\n",
    "* Create a summary data frame to hold the results\n",
    "\n",
    "\n",
    "* Optional: give the displayed data cleaner formatting\n",
    "\n",
    "\n",
    "* Display the summary data frame\n"
   ]
  },
  {
   "cell_type": "code",
   "execution_count": 192,
   "metadata": {},
   "outputs": [
    {
     "data": {
      "text/html": [
       "<div>\n",
       "<style scoped>\n",
       "    .dataframe tbody tr th:only-of-type {\n",
       "        vertical-align: middle;\n",
       "    }\n",
       "\n",
       "    .dataframe tbody tr th {\n",
       "        vertical-align: top;\n",
       "    }\n",
       "\n",
       "    .dataframe thead th {\n",
       "        text-align: right;\n",
       "    }\n",
       "</style>\n",
       "<table border=\"1\" class=\"dataframe\">\n",
       "  <thead>\n",
       "    <tr style=\"text-align: right;\">\n",
       "      <th></th>\n",
       "      <th>Number of Unique Items</th>\n",
       "      <th>Average Price</th>\n",
       "      <th>Number of Purchases</th>\n",
       "      <th>Total Revenue</th>\n",
       "    </tr>\n",
       "  </thead>\n",
       "  <tbody>\n",
       "    <tr>\n",
       "      <th>0</th>\n",
       "      <td>179</td>\n",
       "      <td>$3.05</td>\n",
       "      <td>780</td>\n",
       "      <td>$2,379.77</td>\n",
       "    </tr>\n",
       "  </tbody>\n",
       "</table>\n",
       "</div>"
      ],
      "text/plain": [
       "   Number of Unique Items Average Price  Number of Purchases Total Revenue\n",
       "0                     179         $3.05                  780     $2,379.77"
      ]
     },
     "execution_count": 192,
     "metadata": {},
     "output_type": "execute_result"
    }
   ],
   "source": [
    "#calculate unique items, average price, number of purchases, and total purchase amount\n",
    "\n",
    "unique_items = purchase_data[\"Item Name\"].nunique()\n",
    "avg_price = purchase_data[\"Price\"].mean()\n",
    "purchases = purchase_data[\"Purchase ID\"].count()\n",
    "rev = purchase_data[\"Price\"].sum()\n",
    "\n",
    "#create dataframe of variables\n",
    "totals = pd.DataFrame({\n",
    "    'Number of Unique Items': [unique_items], \n",
    "    'Average Price': [avg_price], \n",
    "    'Number of Purchases': [purchases], \n",
    "    'Total Revenue': [rev]\n",
    "})\n",
    "#update fromat to currency\n",
    "totals[\"Total Revenue\"] = totals[\"Total Revenue\"].map(\"${:,.2f}\".format)\n",
    "totals[\"Average Price\"] = totals[\"Average Price\"].map(\"${:,.2f}\".format)\n",
    "\n",
    "#output in notebook\n",
    "totals"
   ]
  },
  {
   "cell_type": "markdown",
   "metadata": {},
   "source": [
    "## Gender Demographics"
   ]
  },
  {
   "cell_type": "markdown",
   "metadata": {},
   "source": [
    "* Percentage and Count of Male Players\n",
    "\n",
    "\n",
    "* Percentage and Count of Female Players\n",
    "\n",
    "\n",
    "* Percentage and Count of Other / Non-Disclosed\n"
   ]
  },
  {
   "cell_type": "code",
   "execution_count": 193,
   "metadata": {},
   "outputs": [
    {
     "data": {
      "text/html": [
       "<style  type=\"text/css\" >\n",
       "</style><table id=\"T_96f6520d_2c6b_11eb_96bc_ccd9acc89a91\" ><thead>    <tr>        <th class=\"blank level0\" ></th>        <th class=\"col_heading level0 col0\" >Total Count</th>        <th class=\"col_heading level0 col1\" >Percentage of Players</th>    </tr>    <tr>        <th class=\"index_name level0\" >Gender</th>        <th class=\"blank\" ></th>        <th class=\"blank\" ></th>    </tr></thead><tbody>\n",
       "                <tr>\n",
       "                        <th id=\"T_96f6520d_2c6b_11eb_96bc_ccd9acc89a91level0_row0\" class=\"row_heading level0 row0\" >Male</th>\n",
       "                        <td id=\"T_96f6520d_2c6b_11eb_96bc_ccd9acc89a91row0_col0\" class=\"data row0 col0\" >484</td>\n",
       "                        <td id=\"T_96f6520d_2c6b_11eb_96bc_ccd9acc89a91row0_col1\" class=\"data row0 col1\" >84.03%</td>\n",
       "            </tr>\n",
       "            <tr>\n",
       "                        <th id=\"T_96f6520d_2c6b_11eb_96bc_ccd9acc89a91level0_row1\" class=\"row_heading level0 row1\" >Female</th>\n",
       "                        <td id=\"T_96f6520d_2c6b_11eb_96bc_ccd9acc89a91row1_col0\" class=\"data row1 col0\" >81</td>\n",
       "                        <td id=\"T_96f6520d_2c6b_11eb_96bc_ccd9acc89a91row1_col1\" class=\"data row1 col1\" >14.06%</td>\n",
       "            </tr>\n",
       "            <tr>\n",
       "                        <th id=\"T_96f6520d_2c6b_11eb_96bc_ccd9acc89a91level0_row2\" class=\"row_heading level0 row2\" >Other / Non-Disclosed</th>\n",
       "                        <td id=\"T_96f6520d_2c6b_11eb_96bc_ccd9acc89a91row2_col0\" class=\"data row2 col0\" >11</td>\n",
       "                        <td id=\"T_96f6520d_2c6b_11eb_96bc_ccd9acc89a91row2_col1\" class=\"data row2 col1\" >1.91%</td>\n",
       "            </tr>\n",
       "    </tbody></table>"
      ],
      "text/plain": [
       "<pandas.io.formats.style.Styler at 0x29d31d295e0>"
      ]
     },
     "execution_count": 193,
     "metadata": {},
     "output_type": "execute_result"
    }
   ],
   "source": [
    "#group by gender\n",
    "gender_group = purchase_data.groupby(\"Gender\")\n",
    "\n",
    "#count unique occurrence by gender and total\n",
    "gender_count = gender_group[\"SN\"].nunique()\n",
    "total_gender = gender_count.sum()\n",
    "#percent of total\n",
    "gen_percent = gender_count/total_gender * 100\n",
    "\n",
    "#combine into dataframe\n",
    "gen_demo = pd.DataFrame({\n",
    "     \"Total Count\": gender_count,\n",
    "    \"Percentage of Players\" : gen_percent\n",
    "})\n",
    "\n",
    "#sort and style\n",
    "sorted_demo = gen_demo.sort_values(['Total Count'], ascending = False).style.format({\"Percentage of Players\":\"{:.2f}%\"})\n",
    "\n",
    "#output in notebook\n",
    "sorted_demo"
   ]
  },
  {
   "cell_type": "markdown",
   "metadata": {},
   "source": [
    "\n",
    "## Purchasing Analysis (Gender)"
   ]
  },
  {
   "cell_type": "markdown",
   "metadata": {},
   "source": [
    "* Run basic calculations to obtain purchase count, avg. purchase price, avg. purchase total per person etc. by gender\n",
    "\n",
    "\n",
    "\n",
    "\n",
    "* Create a summary data frame to hold the results\n",
    "\n",
    "\n",
    "* Optional: give the displayed data cleaner formatting\n",
    "\n",
    "\n",
    "* Display the summary data frame"
   ]
  },
  {
   "cell_type": "code",
   "execution_count": 194,
   "metadata": {},
   "outputs": [
    {
     "data": {
      "text/html": [
       "<div>\n",
       "<style scoped>\n",
       "    .dataframe tbody tr th:only-of-type {\n",
       "        vertical-align: middle;\n",
       "    }\n",
       "\n",
       "    .dataframe tbody tr th {\n",
       "        vertical-align: top;\n",
       "    }\n",
       "\n",
       "    .dataframe thead th {\n",
       "        text-align: right;\n",
       "    }\n",
       "</style>\n",
       "<table border=\"1\" class=\"dataframe\">\n",
       "  <thead>\n",
       "    <tr style=\"text-align: right;\">\n",
       "      <th></th>\n",
       "      <th>Purchase Count</th>\n",
       "      <th>Average Purchase Price</th>\n",
       "      <th>Total Purchase Value</th>\n",
       "      <th>Avg Total Purchase per Person</th>\n",
       "    </tr>\n",
       "    <tr>\n",
       "      <th>Gender</th>\n",
       "      <th></th>\n",
       "      <th></th>\n",
       "      <th></th>\n",
       "      <th></th>\n",
       "    </tr>\n",
       "  </thead>\n",
       "  <tbody>\n",
       "    <tr>\n",
       "      <th>Female</th>\n",
       "      <td>113</td>\n",
       "      <td>$3.20</td>\n",
       "      <td>$361.94</td>\n",
       "      <td>$4.47</td>\n",
       "    </tr>\n",
       "    <tr>\n",
       "      <th>Male</th>\n",
       "      <td>652</td>\n",
       "      <td>$3.02</td>\n",
       "      <td>$1,967.64</td>\n",
       "      <td>$4.07</td>\n",
       "    </tr>\n",
       "    <tr>\n",
       "      <th>Other / Non-Disclosed</th>\n",
       "      <td>15</td>\n",
       "      <td>$3.35</td>\n",
       "      <td>$50.19</td>\n",
       "      <td>$4.56</td>\n",
       "    </tr>\n",
       "  </tbody>\n",
       "</table>\n",
       "</div>"
      ],
      "text/plain": [
       "                       Purchase Count Average Purchase Price  \\\n",
       "Gender                                                         \n",
       "Female                            113                  $3.20   \n",
       "Male                              652                  $3.02   \n",
       "Other / Non-Disclosed              15                  $3.35   \n",
       "\n",
       "                      Total Purchase Value Avg Total Purchase per Person  \n",
       "Gender                                                                    \n",
       "Female                             $361.94                         $4.47  \n",
       "Male                             $1,967.64                         $4.07  \n",
       "Other / Non-Disclosed               $50.19                         $4.56  "
      ]
     },
     "execution_count": 194,
     "metadata": {},
     "output_type": "execute_result"
    }
   ],
   "source": [
    "#groupby Gender\n",
    "gender_group = purchase_data.groupby(\"Gender\")\n",
    "\n",
    "#calculate variables\n",
    "gender_count = gender_group[\"SN\"].nunique()\n",
    "pur_count = gender_group[\"Purchase ID\"].count()\n",
    "total_pur = gender_group[\"Price\"].sum()\n",
    "avg_pur = total_pur/pur_count\n",
    "avg_per = total_pur/gender_count\n",
    "\n",
    "#create summary dataframe\n",
    "\n",
    "pur_analysis = pd.DataFrame({\n",
    "    \"Purchase Count\": pur_count,\n",
    "    \"Average Purchase Price\": avg_pur,\n",
    "    \"Total Purchase Value\": total_pur,\n",
    "    \"Avg Total Purchase per Person\": avg_per\n",
    "})\n",
    "\n",
    "#format\n",
    "pur_analysis[\"Average Purchase Price\"] = pur_analysis[\"Average Purchase Price\"].map(\"${:,.2f}\".format)\n",
    "pur_analysis[\"Total Purchase Value\"] = pur_analysis[\"Total Purchase Value\"].map(\"${:,.2f}\".format)\n",
    "pur_analysis[\"Avg Total Purchase per Person\"] = pur_analysis[\"Avg Total Purchase per Person\"].map(\"${:,.2f}\".format)\n",
    "\n",
    "#output in notebook\n",
    "pur_analysis"
   ]
  },
  {
   "cell_type": "markdown",
   "metadata": {},
   "source": [
    "## Age Demographics"
   ]
  },
  {
   "cell_type": "markdown",
   "metadata": {},
   "source": [
    "* Establish bins for ages\n",
    "\n",
    "\n",
    "* Categorize the existing players using the age bins. Hint: use pd.cut()\n",
    "\n",
    "\n",
    "* Calculate the numbers and percentages by age group\n",
    "\n",
    "\n",
    "* Create a summary data frame to hold the results\n",
    "\n",
    "\n",
    "* Optional: round the percentage column to two decimal points\n",
    "\n",
    "\n",
    "* Display Age Demographics Table\n"
   ]
  },
  {
   "cell_type": "code",
   "execution_count": 207,
   "metadata": {},
   "outputs": [
    {
     "data": {
      "text/html": [
       "<style  type=\"text/css\" >\n",
       "</style><table id=\"T_4385961c_2c6e_11eb_b6a6_ccd9acc89a91\" ><thead>    <tr>        <th class=\"blank level0\" ></th>        <th class=\"col_heading level0 col0\" >Count</th>        <th class=\"col_heading level0 col1\" >Percentage of Players</th>    </tr>    <tr>        <th class=\"index_name level0\" >Age Group</th>        <th class=\"blank\" ></th>        <th class=\"blank\" ></th>    </tr></thead><tbody>\n",
       "                <tr>\n",
       "                        <th id=\"T_4385961c_2c6e_11eb_b6a6_ccd9acc89a91level0_row0\" class=\"row_heading level0 row0\" ><10</th>\n",
       "                        <td id=\"T_4385961c_2c6e_11eb_b6a6_ccd9acc89a91row0_col0\" class=\"data row0 col0\" >17</td>\n",
       "                        <td id=\"T_4385961c_2c6e_11eb_b6a6_ccd9acc89a91row0_col1\" class=\"data row0 col1\" >2.95%</td>\n",
       "            </tr>\n",
       "            <tr>\n",
       "                        <th id=\"T_4385961c_2c6e_11eb_b6a6_ccd9acc89a91level0_row1\" class=\"row_heading level0 row1\" >10-14</th>\n",
       "                        <td id=\"T_4385961c_2c6e_11eb_b6a6_ccd9acc89a91row1_col0\" class=\"data row1 col0\" >22</td>\n",
       "                        <td id=\"T_4385961c_2c6e_11eb_b6a6_ccd9acc89a91row1_col1\" class=\"data row1 col1\" >3.82%</td>\n",
       "            </tr>\n",
       "            <tr>\n",
       "                        <th id=\"T_4385961c_2c6e_11eb_b6a6_ccd9acc89a91level0_row2\" class=\"row_heading level0 row2\" >15-19</th>\n",
       "                        <td id=\"T_4385961c_2c6e_11eb_b6a6_ccd9acc89a91row2_col0\" class=\"data row2 col0\" >107</td>\n",
       "                        <td id=\"T_4385961c_2c6e_11eb_b6a6_ccd9acc89a91row2_col1\" class=\"data row2 col1\" >18.58%</td>\n",
       "            </tr>\n",
       "            <tr>\n",
       "                        <th id=\"T_4385961c_2c6e_11eb_b6a6_ccd9acc89a91level0_row3\" class=\"row_heading level0 row3\" >20-24</th>\n",
       "                        <td id=\"T_4385961c_2c6e_11eb_b6a6_ccd9acc89a91row3_col0\" class=\"data row3 col0\" >258</td>\n",
       "                        <td id=\"T_4385961c_2c6e_11eb_b6a6_ccd9acc89a91row3_col1\" class=\"data row3 col1\" >44.79%</td>\n",
       "            </tr>\n",
       "            <tr>\n",
       "                        <th id=\"T_4385961c_2c6e_11eb_b6a6_ccd9acc89a91level0_row4\" class=\"row_heading level0 row4\" >25-29</th>\n",
       "                        <td id=\"T_4385961c_2c6e_11eb_b6a6_ccd9acc89a91row4_col0\" class=\"data row4 col0\" >77</td>\n",
       "                        <td id=\"T_4385961c_2c6e_11eb_b6a6_ccd9acc89a91row4_col1\" class=\"data row4 col1\" >13.37%</td>\n",
       "            </tr>\n",
       "            <tr>\n",
       "                        <th id=\"T_4385961c_2c6e_11eb_b6a6_ccd9acc89a91level0_row5\" class=\"row_heading level0 row5\" >30-34</th>\n",
       "                        <td id=\"T_4385961c_2c6e_11eb_b6a6_ccd9acc89a91row5_col0\" class=\"data row5 col0\" >52</td>\n",
       "                        <td id=\"T_4385961c_2c6e_11eb_b6a6_ccd9acc89a91row5_col1\" class=\"data row5 col1\" >9.03%</td>\n",
       "            </tr>\n",
       "            <tr>\n",
       "                        <th id=\"T_4385961c_2c6e_11eb_b6a6_ccd9acc89a91level0_row6\" class=\"row_heading level0 row6\" >35-39</th>\n",
       "                        <td id=\"T_4385961c_2c6e_11eb_b6a6_ccd9acc89a91row6_col0\" class=\"data row6 col0\" >31</td>\n",
       "                        <td id=\"T_4385961c_2c6e_11eb_b6a6_ccd9acc89a91row6_col1\" class=\"data row6 col1\" >5.38%</td>\n",
       "            </tr>\n",
       "            <tr>\n",
       "                        <th id=\"T_4385961c_2c6e_11eb_b6a6_ccd9acc89a91level0_row7\" class=\"row_heading level0 row7\" >40+</th>\n",
       "                        <td id=\"T_4385961c_2c6e_11eb_b6a6_ccd9acc89a91row7_col0\" class=\"data row7 col0\" >12</td>\n",
       "                        <td id=\"T_4385961c_2c6e_11eb_b6a6_ccd9acc89a91row7_col1\" class=\"data row7 col1\" >2.08%</td>\n",
       "            </tr>\n",
       "    </tbody></table>"
      ],
      "text/plain": [
       "<pandas.io.formats.style.Styler at 0x29d31d7c9d0>"
      ]
     },
     "execution_count": 207,
     "metadata": {},
     "output_type": "execute_result"
    }
   ],
   "source": [
    "#create bins\n",
    "bins = [0, 9, 14, 19, 24, 29, 34, 39, 1000]\n",
    "\n",
    "#lables\n",
    "bin_labels =[\"<10\", \"10-14\", \"15-19\", \"20-24\", \"25-29\", \"30-34\", \"35-39\", \"40+\"]\n",
    "\n",
    "#bin\n",
    "pd.cut(purchase_data[\"Age\"], bins, labels= bin_labels)\n",
    "purchase_data[\"Age Group\"] = pd.cut(purchase_data[\"Age\"], bins, labels= bin_labels)\n",
    "\n",
    "#group by Age Group\n",
    "age_group = purchase_data.groupby(\"Age Group\")\n",
    "person_count = age_group[\"SN\"].nunique()\n",
    "total_count = person_count.sum()\n",
    "per_total = person_count/total_count * 100\n",
    "\n",
    "#combine into dataframe\n",
    "age_demo = pd.DataFrame({\n",
    "    \"Count\": person_count,\n",
    "    \"Percentage of Players\" : per_total\n",
    "})\n",
    "\n",
    "#style\n",
    "sorted_age_demo = age_demo.style.format({\"Percentage of Players\":\"{:.2f}%\"})\n",
    "\n",
    "#output in notebook\n",
    "sorted_age_demo\n"
   ]
  },
  {
   "cell_type": "markdown",
   "metadata": {},
   "source": [
    "## Purchasing Analysis (Age)"
   ]
  },
  {
   "cell_type": "markdown",
   "metadata": {},
   "source": [
    "* Bin the purchase_data data frame by age\n",
    "\n",
    "\n",
    "* Run basic calculations to obtain purchase count, avg. purchase price, avg. purchase total per person etc. in the table below\n",
    "\n",
    "\n",
    "* Create a summary data frame to hold the results\n",
    "\n",
    "\n",
    "* Optional: give the displayed data cleaner formatting\n",
    "\n",
    "\n",
    "* Display the summary data frame"
   ]
  },
  {
   "cell_type": "code",
   "execution_count": 208,
   "metadata": {},
   "outputs": [
    {
     "data": {
      "text/html": [
       "<div>\n",
       "<style scoped>\n",
       "    .dataframe tbody tr th:only-of-type {\n",
       "        vertical-align: middle;\n",
       "    }\n",
       "\n",
       "    .dataframe tbody tr th {\n",
       "        vertical-align: top;\n",
       "    }\n",
       "\n",
       "    .dataframe thead th {\n",
       "        text-align: right;\n",
       "    }\n",
       "</style>\n",
       "<table border=\"1\" class=\"dataframe\">\n",
       "  <thead>\n",
       "    <tr style=\"text-align: right;\">\n",
       "      <th></th>\n",
       "      <th>Purchase Count</th>\n",
       "      <th>Average Purchase Price</th>\n",
       "      <th>Total Purchase Value</th>\n",
       "      <th>Avg Total Purchase per Person</th>\n",
       "    </tr>\n",
       "    <tr>\n",
       "      <th>Age Group</th>\n",
       "      <th></th>\n",
       "      <th></th>\n",
       "      <th></th>\n",
       "      <th></th>\n",
       "    </tr>\n",
       "  </thead>\n",
       "  <tbody>\n",
       "    <tr>\n",
       "      <th>&lt;10</th>\n",
       "      <td>23</td>\n",
       "      <td>$3.35</td>\n",
       "      <td>$77.13</td>\n",
       "      <td>$4.54</td>\n",
       "    </tr>\n",
       "    <tr>\n",
       "      <th>10-14</th>\n",
       "      <td>28</td>\n",
       "      <td>$2.96</td>\n",
       "      <td>$82.78</td>\n",
       "      <td>$3.76</td>\n",
       "    </tr>\n",
       "    <tr>\n",
       "      <th>15-19</th>\n",
       "      <td>136</td>\n",
       "      <td>$3.04</td>\n",
       "      <td>$412.89</td>\n",
       "      <td>$3.86</td>\n",
       "    </tr>\n",
       "    <tr>\n",
       "      <th>20-24</th>\n",
       "      <td>365</td>\n",
       "      <td>$3.05</td>\n",
       "      <td>$1,114.06</td>\n",
       "      <td>$4.32</td>\n",
       "    </tr>\n",
       "    <tr>\n",
       "      <th>25-29</th>\n",
       "      <td>101</td>\n",
       "      <td>$2.90</td>\n",
       "      <td>$293.00</td>\n",
       "      <td>$3.81</td>\n",
       "    </tr>\n",
       "    <tr>\n",
       "      <th>30-34</th>\n",
       "      <td>73</td>\n",
       "      <td>$2.93</td>\n",
       "      <td>$214.00</td>\n",
       "      <td>$4.12</td>\n",
       "    </tr>\n",
       "    <tr>\n",
       "      <th>35-39</th>\n",
       "      <td>41</td>\n",
       "      <td>$3.60</td>\n",
       "      <td>$147.67</td>\n",
       "      <td>$4.76</td>\n",
       "    </tr>\n",
       "    <tr>\n",
       "      <th>40+</th>\n",
       "      <td>13</td>\n",
       "      <td>$2.94</td>\n",
       "      <td>$38.24</td>\n",
       "      <td>$3.19</td>\n",
       "    </tr>\n",
       "  </tbody>\n",
       "</table>\n",
       "</div>"
      ],
      "text/plain": [
       "           Purchase Count Average Purchase Price Total Purchase Value  \\\n",
       "Age Group                                                               \n",
       "<10                    23                  $3.35               $77.13   \n",
       "10-14                  28                  $2.96               $82.78   \n",
       "15-19                 136                  $3.04              $412.89   \n",
       "20-24                 365                  $3.05            $1,114.06   \n",
       "25-29                 101                  $2.90              $293.00   \n",
       "30-34                  73                  $2.93              $214.00   \n",
       "35-39                  41                  $3.60              $147.67   \n",
       "40+                    13                  $2.94               $38.24   \n",
       "\n",
       "          Avg Total Purchase per Person  \n",
       "Age Group                                \n",
       "<10                               $4.54  \n",
       "10-14                             $3.76  \n",
       "15-19                             $3.86  \n",
       "20-24                             $4.32  \n",
       "25-29                             $3.81  \n",
       "30-34                             $4.12  \n",
       "35-39                             $4.76  \n",
       "40+                               $3.19  "
      ]
     },
     "execution_count": 208,
     "metadata": {},
     "output_type": "execute_result"
    }
   ],
   "source": [
    "#create bins\n",
    "bins = [0, 9, 14, 19, 24, 29, 34, 39, 1000]\n",
    "\n",
    "#lables\n",
    "bin_labels =[\"<10\", \"10-14\", \"15-19\", \"20-24\", \"25-29\", \"30-34\", \"35-39\", \"40+\"]\n",
    "\n",
    "#bin\n",
    "pd.cut(purchase_data[\"Age\"], bins, labels= bin_labels)\n",
    "purchase_data[\"Age Group\"] = pd.cut(purchase_data[\"Age\"], bins, labels= bin_labels)\n",
    "\n",
    "\n",
    "#group by Age Group\n",
    "age_group = purchase_data.groupby(\"Age Group\")\n",
    "person_count = age_group[\"SN\"].nunique()\n",
    "pur_count = age_group[\"Purchase ID\"].count()\n",
    "total_pur = age_group[\"Price\"].sum()\n",
    "avg_pur = total_pur/pur_count\n",
    "avg_per = total_pur/person_count\n",
    "\n",
    "#create summary dataframe\n",
    "\n",
    "age_analysis = pd.DataFrame({\n",
    "    \"Purchase Count\": pur_count,\n",
    "    \"Average Purchase Price\": avg_pur,\n",
    "    \"Total Purchase Value\": total_pur,\n",
    "    \"Avg Total Purchase per Person\": avg_per\n",
    "})\n",
    "\n",
    "#format\n",
    "age_analysis[\"Average Purchase Price\"] = age_analysis[\"Average Purchase Price\"].map(\"${:,.2f}\".format)\n",
    "age_analysis[\"Total Purchase Value\"] = age_analysis[\"Total Purchase Value\"].map(\"${:,.2f}\".format)\n",
    "age_analysis[\"Avg Total Purchase per Person\"] = age_analysis[\"Avg Total Purchase per Person\"].map(\"${:,.2f}\".format)\n",
    "\n",
    "#output to notebook\n",
    "age_analysis\n"
   ]
  },
  {
   "cell_type": "markdown",
   "metadata": {},
   "source": [
    "## Top Spenders"
   ]
  },
  {
   "cell_type": "markdown",
   "metadata": {},
   "source": [
    "* Run basic calculations to obtain the results in the table below\n",
    "\n",
    "\n",
    "* Create a summary data frame to hold the results\n",
    "\n",
    "\n",
    "* Sort the total purchase value column in descending order\n",
    "\n",
    "\n",
    "* Optional: give the displayed data cleaner formatting\n",
    "\n",
    "\n",
    "* Display a preview of the summary data frame\n",
    "\n"
   ]
  },
  {
   "cell_type": "code",
   "execution_count": 229,
   "metadata": {},
   "outputs": [
    {
     "data": {
      "text/html": [
       "<style  type=\"text/css\" >\n",
       "</style><table id=\"T_73f8fca6_2c74_11eb_b263_ccd9acc89a91\" ><thead>    <tr>        <th class=\"blank level0\" ></th>        <th class=\"col_heading level0 col0\" >Purchase Count</th>        <th class=\"col_heading level0 col1\" >Average Purchase Price</th>        <th class=\"col_heading level0 col2\" >Total Purchase Value</th>    </tr>    <tr>        <th class=\"index_name level0\" >SN</th>        <th class=\"blank\" ></th>        <th class=\"blank\" ></th>        <th class=\"blank\" ></th>    </tr></thead><tbody>\n",
       "                <tr>\n",
       "                        <th id=\"T_73f8fca6_2c74_11eb_b263_ccd9acc89a91level0_row0\" class=\"row_heading level0 row0\" >Lisosia93</th>\n",
       "                        <td id=\"T_73f8fca6_2c74_11eb_b263_ccd9acc89a91row0_col0\" class=\"data row0 col0\" >5</td>\n",
       "                        <td id=\"T_73f8fca6_2c74_11eb_b263_ccd9acc89a91row0_col1\" class=\"data row0 col1\" >$3.79</td>\n",
       "                        <td id=\"T_73f8fca6_2c74_11eb_b263_ccd9acc89a91row0_col2\" class=\"data row0 col2\" >$18.96</td>\n",
       "            </tr>\n",
       "            <tr>\n",
       "                        <th id=\"T_73f8fca6_2c74_11eb_b263_ccd9acc89a91level0_row1\" class=\"row_heading level0 row1\" >Idastidru52</th>\n",
       "                        <td id=\"T_73f8fca6_2c74_11eb_b263_ccd9acc89a91row1_col0\" class=\"data row1 col0\" >4</td>\n",
       "                        <td id=\"T_73f8fca6_2c74_11eb_b263_ccd9acc89a91row1_col1\" class=\"data row1 col1\" >$3.86</td>\n",
       "                        <td id=\"T_73f8fca6_2c74_11eb_b263_ccd9acc89a91row1_col2\" class=\"data row1 col2\" >$15.45</td>\n",
       "            </tr>\n",
       "            <tr>\n",
       "                        <th id=\"T_73f8fca6_2c74_11eb_b263_ccd9acc89a91level0_row2\" class=\"row_heading level0 row2\" >Chamjask73</th>\n",
       "                        <td id=\"T_73f8fca6_2c74_11eb_b263_ccd9acc89a91row2_col0\" class=\"data row2 col0\" >3</td>\n",
       "                        <td id=\"T_73f8fca6_2c74_11eb_b263_ccd9acc89a91row2_col1\" class=\"data row2 col1\" >$4.61</td>\n",
       "                        <td id=\"T_73f8fca6_2c74_11eb_b263_ccd9acc89a91row2_col2\" class=\"data row2 col2\" >$13.83</td>\n",
       "            </tr>\n",
       "            <tr>\n",
       "                        <th id=\"T_73f8fca6_2c74_11eb_b263_ccd9acc89a91level0_row3\" class=\"row_heading level0 row3\" >Iral74</th>\n",
       "                        <td id=\"T_73f8fca6_2c74_11eb_b263_ccd9acc89a91row3_col0\" class=\"data row3 col0\" >4</td>\n",
       "                        <td id=\"T_73f8fca6_2c74_11eb_b263_ccd9acc89a91row3_col1\" class=\"data row3 col1\" >$3.40</td>\n",
       "                        <td id=\"T_73f8fca6_2c74_11eb_b263_ccd9acc89a91row3_col2\" class=\"data row3 col2\" >$13.62</td>\n",
       "            </tr>\n",
       "            <tr>\n",
       "                        <th id=\"T_73f8fca6_2c74_11eb_b263_ccd9acc89a91level0_row4\" class=\"row_heading level0 row4\" >Iskadarya95</th>\n",
       "                        <td id=\"T_73f8fca6_2c74_11eb_b263_ccd9acc89a91row4_col0\" class=\"data row4 col0\" >3</td>\n",
       "                        <td id=\"T_73f8fca6_2c74_11eb_b263_ccd9acc89a91row4_col1\" class=\"data row4 col1\" >$4.37</td>\n",
       "                        <td id=\"T_73f8fca6_2c74_11eb_b263_ccd9acc89a91row4_col2\" class=\"data row4 col2\" >$13.10</td>\n",
       "            </tr>\n",
       "    </tbody></table>"
      ],
      "text/plain": [
       "<pandas.io.formats.style.Styler at 0x29d31d850d0>"
      ]
     },
     "execution_count": 229,
     "metadata": {},
     "output_type": "execute_result"
    }
   ],
   "source": [
    "#group by SN\n",
    "SN_group = purchase_data.groupby(\"SN\")\n",
    "\n",
    "#calculate values\n",
    "purchase_count = SN_group[\"Purchase ID\"].count()\n",
    "total_purchase = SN_group[\"Price\"].sum()\n",
    "avg_pur = total_purchase/purchase_count\n",
    "\n",
    "#create dataframe\n",
    "top_spenders = pd.DataFrame({\n",
    "    \"Purchase Count\": purchase_count,\n",
    "    \"Average Purchase Price\": avg_pur,\n",
    "    \"Total Purchase Value\": total_purchase\n",
    "})\n",
    "\n",
    "#sort,format, and filter to top five\n",
    "sorted_top_spenders = top_spenders.sort_values(['Total Purchase Value'], ascending = False).head(5).style.format({\"Total Purchase Value\":\"${:.2f}\", \"Average Purchase Price\":\"${:.2f}\"})\n",
    "\n",
    "#output to notebook\n",
    "sorted_top_spenders\n"
   ]
  },
  {
   "cell_type": "markdown",
   "metadata": {},
   "source": [
    "## Most Popular Items"
   ]
  },
  {
   "cell_type": "markdown",
   "metadata": {},
   "source": [
    "* Retrieve the Item ID, Item Name, and Item Price columns\n",
    "\n",
    "\n",
    "* Group by Item ID and Item Name. Perform calculations to obtain purchase count, average item price, and total purchase value\n",
    "\n",
    "\n",
    "* Create a summary data frame to hold the results\n",
    "\n",
    "\n",
    "* Sort the purchase count column in descending order\n",
    "\n",
    "\n",
    "* Optional: give the displayed data cleaner formatting\n",
    "\n",
    "\n",
    "* Display a preview of the summary data frame\n",
    "\n"
   ]
  },
  {
   "cell_type": "code",
   "execution_count": 240,
   "metadata": {
    "scrolled": true
   },
   "outputs": [
    {
     "data": {
      "text/html": [
       "<style  type=\"text/css\" >\n",
       "</style><table id=\"T_9abeebc3_2c79_11eb_93ee_ccd9acc89a91\" ><thead>    <tr>        <th class=\"blank\" ></th>        <th class=\"blank level0\" ></th>        <th class=\"col_heading level0 col0\" >Purchase Count</th>        <th class=\"col_heading level0 col1\" >Average Item Price</th>        <th class=\"col_heading level0 col2\" >Total Purchase Value</th>    </tr>    <tr>        <th class=\"index_name level0\" >Item ID</th>        <th class=\"index_name level1\" >Item Name</th>        <th class=\"blank\" ></th>        <th class=\"blank\" ></th>        <th class=\"blank\" ></th>    </tr></thead><tbody>\n",
       "                <tr>\n",
       "                        <th id=\"T_9abeebc3_2c79_11eb_93ee_ccd9acc89a91level0_row0\" class=\"row_heading level0 row0\" >92</th>\n",
       "                        <th id=\"T_9abeebc3_2c79_11eb_93ee_ccd9acc89a91level1_row0\" class=\"row_heading level1 row0\" >Final Critic</th>\n",
       "                        <td id=\"T_9abeebc3_2c79_11eb_93ee_ccd9acc89a91row0_col0\" class=\"data row0 col0\" >13</td>\n",
       "                        <td id=\"T_9abeebc3_2c79_11eb_93ee_ccd9acc89a91row0_col1\" class=\"data row0 col1\" >$4.61</td>\n",
       "                        <td id=\"T_9abeebc3_2c79_11eb_93ee_ccd9acc89a91row0_col2\" class=\"data row0 col2\" >$59.99</td>\n",
       "            </tr>\n",
       "            <tr>\n",
       "                        <th id=\"T_9abeebc3_2c79_11eb_93ee_ccd9acc89a91level0_row1\" class=\"row_heading level0 row1\" >178</th>\n",
       "                        <th id=\"T_9abeebc3_2c79_11eb_93ee_ccd9acc89a91level1_row1\" class=\"row_heading level1 row1\" >Oathbreaker, Last Hope of the Breaking Storm</th>\n",
       "                        <td id=\"T_9abeebc3_2c79_11eb_93ee_ccd9acc89a91row1_col0\" class=\"data row1 col0\" >12</td>\n",
       "                        <td id=\"T_9abeebc3_2c79_11eb_93ee_ccd9acc89a91row1_col1\" class=\"data row1 col1\" >$4.23</td>\n",
       "                        <td id=\"T_9abeebc3_2c79_11eb_93ee_ccd9acc89a91row1_col2\" class=\"data row1 col2\" >$50.76</td>\n",
       "            </tr>\n",
       "            <tr>\n",
       "                        <th id=\"T_9abeebc3_2c79_11eb_93ee_ccd9acc89a91level0_row2\" class=\"row_heading level0 row2\" >145</th>\n",
       "                        <th id=\"T_9abeebc3_2c79_11eb_93ee_ccd9acc89a91level1_row2\" class=\"row_heading level1 row2\" >Fiery Glass Crusader</th>\n",
       "                        <td id=\"T_9abeebc3_2c79_11eb_93ee_ccd9acc89a91row2_col0\" class=\"data row2 col0\" >9</td>\n",
       "                        <td id=\"T_9abeebc3_2c79_11eb_93ee_ccd9acc89a91row2_col1\" class=\"data row2 col1\" >$4.58</td>\n",
       "                        <td id=\"T_9abeebc3_2c79_11eb_93ee_ccd9acc89a91row2_col2\" class=\"data row2 col2\" >$41.22</td>\n",
       "            </tr>\n",
       "            <tr>\n",
       "                        <th id=\"T_9abeebc3_2c79_11eb_93ee_ccd9acc89a91level0_row3\" class=\"row_heading level0 row3\" >132</th>\n",
       "                        <th id=\"T_9abeebc3_2c79_11eb_93ee_ccd9acc89a91level1_row3\" class=\"row_heading level1 row3\" >Persuasion</th>\n",
       "                        <td id=\"T_9abeebc3_2c79_11eb_93ee_ccd9acc89a91row3_col0\" class=\"data row3 col0\" >9</td>\n",
       "                        <td id=\"T_9abeebc3_2c79_11eb_93ee_ccd9acc89a91row3_col1\" class=\"data row3 col1\" >$3.22</td>\n",
       "                        <td id=\"T_9abeebc3_2c79_11eb_93ee_ccd9acc89a91row3_col2\" class=\"data row3 col2\" >$28.99</td>\n",
       "            </tr>\n",
       "            <tr>\n",
       "                        <th id=\"T_9abeebc3_2c79_11eb_93ee_ccd9acc89a91level0_row4\" class=\"row_heading level0 row4\" >108</th>\n",
       "                        <th id=\"T_9abeebc3_2c79_11eb_93ee_ccd9acc89a91level1_row4\" class=\"row_heading level1 row4\" >Extraction, Quickblade Of Trembling Hands</th>\n",
       "                        <td id=\"T_9abeebc3_2c79_11eb_93ee_ccd9acc89a91row4_col0\" class=\"data row4 col0\" >9</td>\n",
       "                        <td id=\"T_9abeebc3_2c79_11eb_93ee_ccd9acc89a91row4_col1\" class=\"data row4 col1\" >$3.53</td>\n",
       "                        <td id=\"T_9abeebc3_2c79_11eb_93ee_ccd9acc89a91row4_col2\" class=\"data row4 col2\" >$31.77</td>\n",
       "            </tr>\n",
       "    </tbody></table>"
      ],
      "text/plain": [
       "<pandas.io.formats.style.Styler at 0x29d31d1b4c0>"
      ]
     },
     "execution_count": 240,
     "metadata": {},
     "output_type": "execute_result"
    }
   ],
   "source": [
    "#dataframe subset\n",
    "pop_df = purchase_data[[\"Item ID\", \"Item Name\", \"Price\"]]\n",
    "\n",
    "#group by Item ID & Item Name\n",
    "group_item = pop_df.groupby(['Item ID', 'Item Name'])\n",
    "purchase_count = group_item[\"Item ID\"].count()\n",
    "total_purchase = group_item[\"Price\"].sum()\n",
    "avg_price = total_purchase/purchase_count\n",
    "\n",
    "pop_items = pd.DataFrame({\n",
    "    \"Purchase Count\": purchase_count,\n",
    "    \"Average Item Price\": avg_price,\n",
    "    \"Total Purchase Value\": total_purchase\n",
    "})\n",
    "\n",
    "#sort,format, and filter to top five\n",
    "sorted_pop_items = pop_items.sort_values(['Purchase Count'], ascending = False).head(5).style.format({\"Total Purchase Value\":\"${:.2f}\", \"Average Item Price\":\"${:.2f}\"})\n",
    "\n",
    "#output to notebook\n",
    "sorted_pop_items\n"
   ]
  },
  {
   "cell_type": "markdown",
   "metadata": {},
   "source": [
    "## Most Profitable Items"
   ]
  },
  {
   "cell_type": "markdown",
   "metadata": {},
   "source": [
    "* Sort the above table by total purchase value in descending order\n",
    "\n",
    "\n",
    "* Optional: give the displayed data cleaner formatting\n",
    "\n",
    "\n",
    "* Display a preview of the data frame\n",
    "\n"
   ]
  },
  {
   "cell_type": "code",
   "execution_count": 241,
   "metadata": {},
   "outputs": [
    {
     "data": {
      "text/html": [
       "<style  type=\"text/css\" >\n",
       "</style><table id=\"T_a8882645_2c7a_11eb_96d6_ccd9acc89a91\" ><thead>    <tr>        <th class=\"blank\" ></th>        <th class=\"blank level0\" ></th>        <th class=\"col_heading level0 col0\" >Purchase Count</th>        <th class=\"col_heading level0 col1\" >Average Item Price</th>        <th class=\"col_heading level0 col2\" >Total Purchase Value</th>    </tr>    <tr>        <th class=\"index_name level0\" >Item ID</th>        <th class=\"index_name level1\" >Item Name</th>        <th class=\"blank\" ></th>        <th class=\"blank\" ></th>        <th class=\"blank\" ></th>    </tr></thead><tbody>\n",
       "                <tr>\n",
       "                        <th id=\"T_a8882645_2c7a_11eb_96d6_ccd9acc89a91level0_row0\" class=\"row_heading level0 row0\" >92</th>\n",
       "                        <th id=\"T_a8882645_2c7a_11eb_96d6_ccd9acc89a91level1_row0\" class=\"row_heading level1 row0\" >Final Critic</th>\n",
       "                        <td id=\"T_a8882645_2c7a_11eb_96d6_ccd9acc89a91row0_col0\" class=\"data row0 col0\" >13</td>\n",
       "                        <td id=\"T_a8882645_2c7a_11eb_96d6_ccd9acc89a91row0_col1\" class=\"data row0 col1\" >$4.61</td>\n",
       "                        <td id=\"T_a8882645_2c7a_11eb_96d6_ccd9acc89a91row0_col2\" class=\"data row0 col2\" >$59.99</td>\n",
       "            </tr>\n",
       "            <tr>\n",
       "                        <th id=\"T_a8882645_2c7a_11eb_96d6_ccd9acc89a91level0_row1\" class=\"row_heading level0 row1\" >178</th>\n",
       "                        <th id=\"T_a8882645_2c7a_11eb_96d6_ccd9acc89a91level1_row1\" class=\"row_heading level1 row1\" >Oathbreaker, Last Hope of the Breaking Storm</th>\n",
       "                        <td id=\"T_a8882645_2c7a_11eb_96d6_ccd9acc89a91row1_col0\" class=\"data row1 col0\" >12</td>\n",
       "                        <td id=\"T_a8882645_2c7a_11eb_96d6_ccd9acc89a91row1_col1\" class=\"data row1 col1\" >$4.23</td>\n",
       "                        <td id=\"T_a8882645_2c7a_11eb_96d6_ccd9acc89a91row1_col2\" class=\"data row1 col2\" >$50.76</td>\n",
       "            </tr>\n",
       "            <tr>\n",
       "                        <th id=\"T_a8882645_2c7a_11eb_96d6_ccd9acc89a91level0_row2\" class=\"row_heading level0 row2\" >82</th>\n",
       "                        <th id=\"T_a8882645_2c7a_11eb_96d6_ccd9acc89a91level1_row2\" class=\"row_heading level1 row2\" >Nirvana</th>\n",
       "                        <td id=\"T_a8882645_2c7a_11eb_96d6_ccd9acc89a91row2_col0\" class=\"data row2 col0\" >9</td>\n",
       "                        <td id=\"T_a8882645_2c7a_11eb_96d6_ccd9acc89a91row2_col1\" class=\"data row2 col1\" >$4.90</td>\n",
       "                        <td id=\"T_a8882645_2c7a_11eb_96d6_ccd9acc89a91row2_col2\" class=\"data row2 col2\" >$44.10</td>\n",
       "            </tr>\n",
       "            <tr>\n",
       "                        <th id=\"T_a8882645_2c7a_11eb_96d6_ccd9acc89a91level0_row3\" class=\"row_heading level0 row3\" >145</th>\n",
       "                        <th id=\"T_a8882645_2c7a_11eb_96d6_ccd9acc89a91level1_row3\" class=\"row_heading level1 row3\" >Fiery Glass Crusader</th>\n",
       "                        <td id=\"T_a8882645_2c7a_11eb_96d6_ccd9acc89a91row3_col0\" class=\"data row3 col0\" >9</td>\n",
       "                        <td id=\"T_a8882645_2c7a_11eb_96d6_ccd9acc89a91row3_col1\" class=\"data row3 col1\" >$4.58</td>\n",
       "                        <td id=\"T_a8882645_2c7a_11eb_96d6_ccd9acc89a91row3_col2\" class=\"data row3 col2\" >$41.22</td>\n",
       "            </tr>\n",
       "            <tr>\n",
       "                        <th id=\"T_a8882645_2c7a_11eb_96d6_ccd9acc89a91level0_row4\" class=\"row_heading level0 row4\" >103</th>\n",
       "                        <th id=\"T_a8882645_2c7a_11eb_96d6_ccd9acc89a91level1_row4\" class=\"row_heading level1 row4\" >Singed Scalpel</th>\n",
       "                        <td id=\"T_a8882645_2c7a_11eb_96d6_ccd9acc89a91row4_col0\" class=\"data row4 col0\" >8</td>\n",
       "                        <td id=\"T_a8882645_2c7a_11eb_96d6_ccd9acc89a91row4_col1\" class=\"data row4 col1\" >$4.35</td>\n",
       "                        <td id=\"T_a8882645_2c7a_11eb_96d6_ccd9acc89a91row4_col2\" class=\"data row4 col2\" >$34.80</td>\n",
       "            </tr>\n",
       "    </tbody></table>"
      ],
      "text/plain": [
       "<pandas.io.formats.style.Styler at 0x29d31d70df0>"
      ]
     },
     "execution_count": 241,
     "metadata": {},
     "output_type": "execute_result"
    }
   ],
   "source": [
    "#sort,format, and filter to top five\n",
    "sorted_top_items = pop_items.sort_values(['Total Purchase Value'], ascending = False).head(5).style.format({\"Total Purchase Value\":\"${:.2f}\", \"Average Item Price\":\"${:.2f}\"})\n",
    "\n",
    "#output to notebook\n",
    "sorted_top_items"
   ]
  },
  {
   "cell_type": "markdown",
   "metadata": {},
   "source": [
    "## Observations"
   ]
  },
  {
   "cell_type": "markdown",
   "metadata": {},
   "source": [
    "* Men are far more likely to make in-app purchases, accounting for 84% of purchases\n",
    "* While 20-24 year old players spend the most, 35-39 year old players are the most valuable \n",
    "* The most popular item in the game is also the most profitable item"
   ]
  }
 ],
 "metadata": {
  "anaconda-cloud": {},
  "kernel_info": {
   "name": "python3"
  },
  "kernelspec": {
   "display_name": "Python 3",
   "language": "python",
   "name": "python3"
  },
  "language_info": {
   "codemirror_mode": {
    "name": "ipython",
    "version": 3
   },
   "file_extension": ".py",
   "mimetype": "text/x-python",
   "name": "python",
   "nbconvert_exporter": "python",
   "pygments_lexer": "ipython3",
   "version": "3.8.3"
  },
  "latex_envs": {
   "LaTeX_envs_menu_present": true,
   "autoclose": false,
   "autocomplete": true,
   "bibliofile": "biblio.bib",
   "cite_by": "apalike",
   "current_citInitial": 1,
   "eqLabelWithNumbers": true,
   "eqNumInitial": 1,
   "hotkeys": {
    "equation": "Ctrl-E",
    "itemize": "Ctrl-I"
   },
   "labels_anchors": false,
   "latex_user_defs": false,
   "report_style_numbering": false,
   "user_envs_cfg": false
  },
  "nteract": {
   "version": "0.2.0"
  }
 },
 "nbformat": 4,
 "nbformat_minor": 2
}
